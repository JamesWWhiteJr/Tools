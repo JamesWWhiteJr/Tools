{
  "nbformat": 4,
  "nbformat_minor": 0,
  "metadata": {
    "colab": {
      "name": "Single_Asset_Utility.ipynb",
      "provenance": [],
      "include_colab_link": true
    },
    "kernelspec": {
      "name": "python3",
      "display_name": "Python 3"
    }
  },
  "cells": [
    {
      "cell_type": "markdown",
      "metadata": {
        "id": "view-in-github",
        "colab_type": "text"
      },
      "source": [
        "<a href=\"https://colab.research.google.com/github/JamesWWhiteJr/Tools/blob/master/Single_Asset_Utility.ipynb\" target=\"_parent\"><img src=\"https://colab.research.google.com/assets/colab-badge.svg\" alt=\"Open In Colab\"/></a>"
      ]
    },
    {
      "cell_type": "markdown",
      "metadata": {
        "id": "5a7nqKdEI_lx"
      },
      "source": [
        "# Single Asset Optimizer\n",
        "\n",
        "There's a single risky asset $A$ (which may represent a portfolio of may individual asset) with expected return $\\mu$ and volatility $\\sigma$.  The asset follows a geometric brownian motion, and there's also a risk-free asset with rate $r$.  We continuously rebalance the portfolio to hold fraction $\\kappa$ in the risky asset, and want to find the best choice of $\\kappa$.  We have CRRA utility, and as usual we want to optimize expected utility, so we have:\n",
        "\n",
        "\\begin{equation}\n",
        "u(w) = \\begin{cases}\n",
        "\\frac{w^{1-\\gamma} - 1}{1-\\gamma}, & \\gamma \\neq 1 \\\\ \\\\\n",
        "ln(w), & \\gamma = 1 \\tag{1}\n",
        "\\end{cases}\n",
        "\\end{equation}\n",
        "\n",
        "\\begin{equation}\n",
        "U(\\kappa) =  \\mathbb{E}[u(P_T)]  \\tag{2}\n",
        "\\end{equation}\n",
        "\n",
        "\\begin{equation}\n",
        "P_T = P_0 e^{(r + (\\mu-r)\\kappa-\\frac{1}{2}\\kappa^2\\sigma^2)T + \\kappa\\sigma Z_T} \\tag{3}\n",
        "\\end{equation}\n",
        "\n",
        "\n",
        "\n",
        "\n"
      ]
    },
    {
      "cell_type": "code",
      "metadata": {
        "id": "DYyj0PzG-ac3",
        "cellView": "form"
      },
      "source": [
        "#@title Inputs \n",
        "mu =   0.05#@param {type: \"number\"}\n",
        "sigma = 0.20 #@param {type:\"number\"}\n",
        "r = 0.01 #@param {type:\"number\"}\n",
        "T = 1 #@param {type:\"number\"}\n",
        "gamma = 2 #@param {type:\"number\"}\n",
        "kappa_max =  2#@param {type:\"number\"}"
      ],
      "execution_count": 48,
      "outputs": []
    },
    {
      "cell_type": "markdown",
      "metadata": {
        "id": "PihgGpLCkT4m"
      },
      "source": [
        "# (Ctrl + F9) to run"
      ]
    },
    {
      "cell_type": "code",
      "metadata": {
        "id": "MbX8PQ5HlC6G",
        "outputId": "87be350b-2582-40f2-a0f2-2c5724bca6f2",
        "colab": {
          "base_uri": "https://localhost:8080/",
          "height": 279
        }
      },
      "source": [
        "#@title (Double-click to unhide Python code) {display-mode: \"form\"}\n",
        "\n",
        "import numpy as np\n",
        "from scipy.optimize import minimize\n",
        "from scipy.stats import norm\n",
        "import matplotlib.pyplot as pyp\n",
        "\n",
        "int_range = 5\n",
        "int_step = 0.01\n",
        "theta_step = 0.25\n",
        "kappa_step = 0.01\n",
        "g_step = 0.01\n",
        "T_step = 1\n",
        "\n",
        "# Some inline functions we need\n",
        "u = lambda x: (np.power(x, 1-gamma) - 1) / (1 - gamma)\n",
        "P_T = lambda kappa, z: np.exp((r + (mu-r)*kappa - 0.5*pow(kappa, 2)*pow(sigma, 2))*T + kappa*sigma*(T**0.5)*z)\n",
        "\n",
        "# And some data structures\n",
        "z_size = int(2 * int_range/int_step + 1)\n",
        "Z = np.linspace(-int_range, int_range, endpoint=True, num=z_size)\n",
        "probs = norm.pdf(Z)\n",
        "\n",
        "def expected_util(x: np.array, optim: bool = False) -> float:\n",
        "    # x[0] = kappa\n",
        "    E_u = (u(P_T(x[0], Z))  * probs).sum() / probs.sum()\n",
        "\n",
        "    return (-1 if optim else 1) * E_u\n",
        "\n",
        "\n",
        "# The Main Event\n",
        "# Plotting E[u] vs. kappa\n",
        "kappa_vec = np.linspace(0, kappa_max, endpoint=True, num=int(kappa_max/kappa_step+1))\n",
        "u_vec = np.zeros(len(kappa_vec))\n",
        "\n",
        "for i, kappa in enumerate(kappa_vec):\n",
        "    u_vec[i] = expected_util(np.asarray([kappa]))\n",
        "\n",
        "# Display\n",
        "pyp.plot(kappa_vec, r*T + (mu-r)*T*kappa_vec, label='E[v]')\n",
        "pyp.plot(kappa_vec, u_vec, label='E[u]')\n",
        "pyp.plot(kappa_vec, r*T*np.ones(len(kappa_vec)), label='r')\n",
        "pyp.xlabel('kappa (position size)')\n",
        "pyp.ylabel('% return')\n",
        "pyp.legend()\n",
        "pyp.show()\n",
        "\n"
      ],
      "execution_count": 49,
      "outputs": [
        {
          "output_type": "display_data",
          "data": {
            "image/png": "[encoded data removed]",
            "text/plain": [
              "<Figure size 432x288 with 1 Axes>"
            ]
          },
          "metadata": {
            "tags": [],
            "needs_background": "light"
          }
        }
      ]
    }
  ]
}